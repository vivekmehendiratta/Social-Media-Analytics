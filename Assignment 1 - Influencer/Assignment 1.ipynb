{
 "cells": [
  {
   "cell_type": "code",
   "execution_count": 306,
   "id": "c13b40a2",
   "metadata": {},
   "outputs": [],
   "source": [
    "import pandas as pd\n",
    "import numpy as np\n",
    "from sklearn.model_selection import train_test_split\n",
    "from sklearn.linear_model import LogisticRegression, LogisticRegressionCV\n",
    "from sklearn.svm import SVC\n",
    "from xgboost import XGBClassifier\n",
    "from sklearn.tree import DecisionTreeClassifier\n",
    "from sklearn.ensemble import RandomForestClassifier\n",
    "from sklearn.model_selection import RandomizedSearchCV, GridSearchCV\n",
    "from sklearn.metrics import accuracy_score\n",
    "from sklearn import preprocessing\n",
    "from sklearn.neighbors import KNeighborsClassifier\n",
    "from sklearn.naive_bayes import GaussianNB\n",
    "from sklearn.metrics import confusion_matrix\n",
    "\n",
    "from matplotlib import pyplot as plt\n",
    "import seaborn as sns\n",
    "\n",
    "import warnings\n",
    "warnings.filterwarnings('ignore')"
   ]
  },
  {
   "cell_type": "markdown",
   "id": "c1d60883",
   "metadata": {},
   "source": [
    "## Data Import"
   ]
  },
  {
   "cell_type": "code",
   "execution_count": 2,
   "id": "45e64ac7",
   "metadata": {},
   "outputs": [
    {
     "data": {
      "text/plain": [
       "(5500, 23)"
      ]
     },
     "execution_count": 2,
     "metadata": {},
     "output_type": "execute_result"
    }
   ],
   "source": [
    "train_data = pd.read_csv('train.csv')\n",
    "train_data.shape"
   ]
  },
  {
   "cell_type": "code",
   "execution_count": 3,
   "id": "b6a6ae1d",
   "metadata": {},
   "outputs": [
    {
     "data": {
      "text/plain": [
       "Index(['Choice', 'A_follower_count', 'A_following_count', 'A_listed_count',\n",
       "       'A_mentions_received', 'A_retweets_received', 'A_mentions_sent',\n",
       "       'A_retweets_sent', 'A_posts', 'A_network_feature_1',\n",
       "       'A_network_feature_2', 'A_network_feature_3', 'B_follower_count',\n",
       "       'B_following_count', 'B_listed_count', 'B_mentions_received',\n",
       "       'B_retweets_received', 'B_mentions_sent', 'B_retweets_sent', 'B_posts',\n",
       "       'B_network_feature_1', 'B_network_feature_2', 'B_network_feature_3'],\n",
       "      dtype='object')"
      ]
     },
     "execution_count": 3,
     "metadata": {},
     "output_type": "execute_result"
    }
   ],
   "source": [
    "train_data.columns"
   ]
  },
  {
   "cell_type": "code",
   "execution_count": 4,
   "id": "2deca531",
   "metadata": {},
   "outputs": [],
   "source": [
    "y = train_data['Choice']\n",
    "X = train_data.drop('Choice', axis = 1)"
   ]
  },
  {
   "cell_type": "code",
   "execution_count": 5,
   "id": "2a588359",
   "metadata": {},
   "outputs": [
    {
     "data": {
      "text/plain": [
       "(5952, 22)"
      ]
     },
     "execution_count": 5,
     "metadata": {},
     "output_type": "execute_result"
    }
   ],
   "source": [
    "test_data = pd.read_csv('test.csv')\n",
    "test_data.shape"
   ]
  },
  {
   "cell_type": "code",
   "execution_count": 6,
   "id": "adf86c0d",
   "metadata": {},
   "outputs": [
    {
     "data": {
      "text/plain": [
       "Index(['A_follower_count', 'A_following_count', 'A_listed_count',\n",
       "       'A_mentions_received', 'A_retweets_received', 'A_mentions_sent',\n",
       "       'A_retweets_sent', 'A_posts', 'A_network_feature_1',\n",
       "       'A_network_feature_2', 'A_network_feature_3', 'B_follower_count',\n",
       "       'B_following_count', 'B_listed_count', 'B_mentions_received',\n",
       "       'B_retweets_received', 'B_mentions_sent', 'B_retweets_sent', 'B_posts',\n",
       "       'B_network_feature_1', 'B_network_feature_2', 'B_network_feature_3'],\n",
       "      dtype='object')"
      ]
     },
     "execution_count": 6,
     "metadata": {},
     "output_type": "execute_result"
    }
   ],
   "source": [
    "test_data.columns"
   ]
  },
  {
   "cell_type": "code",
   "execution_count": 7,
   "id": "9fdaf815",
   "metadata": {},
   "outputs": [
    {
     "data": {
      "text/plain": [
       "1    2802\n",
       "0    2698\n",
       "Name: Choice, dtype: int64"
      ]
     },
     "execution_count": 7,
     "metadata": {},
     "output_type": "execute_result"
    }
   ],
   "source": [
    "y.value_counts()"
   ]
  },
  {
   "cell_type": "markdown",
   "id": "bd62ddd5",
   "metadata": {},
   "source": [
    "## Data Preprocessing"
   ]
  },
  {
   "cell_type": "markdown",
   "id": "da5d1d57",
   "metadata": {},
   "source": [
    "### 1. Transformation : Dividing(A/B)\n",
    "### 2. Transformation : Difference (A>B)"
   ]
  },
  {
   "cell_type": "code",
   "execution_count": 185,
   "id": "43db1646",
   "metadata": {},
   "outputs": [],
   "source": [
    "def transformations(data):\n",
    "    data['A_pop_ratio'] = data['A_mentions_sent']/(data['A_listed_count'] + 0.001)\n",
    "    data['A_foll_ratio'] = data['A_follower_count']/(data['A_following_count'] + 0.001)\n",
    "    data['A_ment_ratio'] = data['A_mentions_sent']/(data['A_mentions_received'] + 0.001)\n",
    "    data['A_rt_ratio'] = data['A_retweets_sent']/(data['A_retweets_received'] + 0.001)\n",
    "\n",
    "    data['B_pop_ratio'] = data['B_mentions_sent']/(data['B_listed_count'] + 0.001)\n",
    "    data['B_foll_ratio'] = data['B_follower_count']/(data['B_following_count'] + 0.001)\n",
    "    data['B_ment_ratio'] = data['B_mentions_sent']/(data['B_mentions_received'] + 0.001)\n",
    "    data['B_rt_ratio'] = data['B_retweets_sent']/(data['B_retweets_received'] + 0.001)\n",
    "    \n",
    "    # Transforming A and B variables -- A > B\n",
    "    data['A-B_follower_count'] = (data['A_follower_count'] > data['B_follower_count'])\n",
    "    data['A-B_following_count'] = (data['A_following_count'] > data['B_following_count'])\n",
    "    data['A-B_listed_count'] = (data['A_listed_count'] > data['B_listed_count'])\n",
    "    data['A-B_mentions_received'] = (data['A_mentions_received'] > data['B_mentions_received'])\n",
    "    data['A-B_retweets_received'] = (data['A_retweets_received'] > data['B_retweets_received'])\n",
    "    data['A-B_mentions_sent'] = (data['A_mentions_sent'] > data['B_mentions_sent'])\n",
    "    data['A-B_retweets_sent'] = (data['A_retweets_sent'] > data['B_retweets_sent'])\n",
    "    data['A-B_posts'] = (data['A_posts'] > data['B_posts'])\n",
    "    data['A-B_network_feature_1'] = (data['A_network_feature_1'] > data['B_network_feature_1'])\n",
    "    data['A-B_network_feature_2'] = (data['A_network_feature_2'] > data['B_network_feature_2'])\n",
    "    data['A-B_network_feature_3'] = (data['A_network_feature_3'] > data['B_network_feature_3'])\n",
    "    data['A-B_foll_ratio'] = (data['A_foll_ratio'] > data['B_foll_ratio'])\n",
    "    data['A-B_ment_ratio'] = (data['A_ment_ratio'] > data['B_ment_ratio'])\n",
    "    data['A-B_rt_ratio'] = (data['A_rt_ratio'] > data['B_rt_ratio'])\n",
    "    \n",
    "    return data"
   ]
  },
  {
   "cell_type": "code",
   "execution_count": 186,
   "id": "d7221c0d",
   "metadata": {},
   "outputs": [],
   "source": [
    "X_t = transformations(X)\n",
    "\n",
    "sub_cols = ['A-B_follower_count',\n",
    "'A-B_following_count',\n",
    "'A-B_listed_count',\n",
    "'A-B_mentions_received',\n",
    "'A-B_retweets_received',\n",
    "'A-B_mentions_sent',\n",
    "'A-B_retweets_sent',\n",
    "'A-B_posts',\n",
    "'A-B_network_feature_1',\n",
    "'A-B_network_feature_2',\n",
    "'A-B_network_feature_3',\n",
    "'A-B_foll_ratio',\n",
    "'A-B_ment_ratio',\n",
    "'A-B_rt_ratio']"
   ]
  },
  {
   "cell_type": "code",
   "execution_count": 187,
   "id": "e651e01e",
   "metadata": {},
   "outputs": [
    {
     "data": {
      "text/plain": [
       "<AxesSubplot:>"
      ]
     },
     "execution_count": 187,
     "metadata": {},
     "output_type": "execute_result"
    },
    {
     "data": {
      "image/png": "[encoded data removed]",
      "text/plain": [
       "<Figure size 1080x1080 with 2 Axes>"
      ]
     },
     "metadata": {
      "needs_background": "light"
     },
     "output_type": "display_data"
    }
   ],
   "source": [
    "Var_Corr = X_t[sub_cols].corr()\n",
    "\n",
    "plt.figure(figsize=(15,15))\n",
    "# plot the heatmap and annotation on it\n",
    "sns.heatmap(Var_Corr, xticklabels=Var_Corr.columns, yticklabels=Var_Corr.columns)"
   ]
  },
  {
   "cell_type": "markdown",
   "id": "2f4e43af",
   "metadata": {},
   "source": [
    "### Variance Inflation factor to filter out highly correlated features"
   ]
  },
  {
   "cell_type": "code",
   "execution_count": 188,
   "id": "af5c5fc3",
   "metadata": {},
   "outputs": [],
   "source": [
    "from statsmodels.stats.outliers_influence import variance_inflation_factor\n",
    "\n",
    "\n",
    "data = X_t[sub_cols]\n",
    "\n",
    "# VIF dataframe\n",
    "vif_data = pd.DataFrame()\n",
    "vif_data[\"feature\"] = data.columns\n",
    "\n",
    "# calculating VIF for each feature\n",
    "vif_data[\"VIF\"] = [variance_inflation_factor(data.values, i) for i in range(len(data.columns))]"
   ]
  },
  {
   "cell_type": "code",
   "execution_count": 189,
   "id": "d981dee1",
   "metadata": {},
   "outputs": [
    {
     "data": {
      "text/html": [
       "<div>\n",
       "<style scoped>\n",
       "    .dataframe tbody tr th:only-of-type {\n",
       "        vertical-align: middle;\n",
       "    }\n",
       "\n",
       "    .dataframe tbody tr th {\n",
       "        vertical-align: top;\n",
       "    }\n",
       "\n",
       "    .dataframe thead th {\n",
       "        text-align: right;\n",
       "    }\n",
       "</style>\n",
       "<table border=\"1\" class=\"dataframe\">\n",
       "  <thead>\n",
       "    <tr style=\"text-align: right;\">\n",
       "      <th></th>\n",
       "      <th>feature</th>\n",
       "      <th>VIF</th>\n",
       "    </tr>\n",
       "  </thead>\n",
       "  <tbody>\n",
       "    <tr>\n",
       "      <th>0</th>\n",
       "      <td>A-B_follower_count</td>\n",
       "      <td>0.002443</td>\n",
       "    </tr>\n",
       "    <tr>\n",
       "      <th>1</th>\n",
       "      <td>A-B_following_count</td>\n",
       "      <td>0.000927</td>\n",
       "    </tr>\n",
       "    <tr>\n",
       "      <th>2</th>\n",
       "      <td>A-B_listed_count</td>\n",
       "      <td>0.002096</td>\n",
       "    </tr>\n",
       "    <tr>\n",
       "      <th>3</th>\n",
       "      <td>A-B_mentions_received</td>\n",
       "      <td>0.009857</td>\n",
       "    </tr>\n",
       "    <tr>\n",
       "      <th>4</th>\n",
       "      <td>A-B_retweets_received</td>\n",
       "      <td>0.003202</td>\n",
       "    </tr>\n",
       "    <tr>\n",
       "      <th>5</th>\n",
       "      <td>A-B_mentions_sent</td>\n",
       "      <td>0.001849</td>\n",
       "    </tr>\n",
       "    <tr>\n",
       "      <th>6</th>\n",
       "      <td>A-B_retweets_sent</td>\n",
       "      <td>0.001215</td>\n",
       "    </tr>\n",
       "    <tr>\n",
       "      <th>7</th>\n",
       "      <td>A-B_posts</td>\n",
       "      <td>0.001602</td>\n",
       "    </tr>\n",
       "    <tr>\n",
       "      <th>8</th>\n",
       "      <td>A-B_network_feature_1</td>\n",
       "      <td>0.010381</td>\n",
       "    </tr>\n",
       "    <tr>\n",
       "      <th>9</th>\n",
       "      <td>A-B_network_feature_2</td>\n",
       "      <td>0.001411</td>\n",
       "    </tr>\n",
       "    <tr>\n",
       "      <th>10</th>\n",
       "      <td>A-B_network_feature_3</td>\n",
       "      <td>0.001422</td>\n",
       "    </tr>\n",
       "    <tr>\n",
       "      <th>11</th>\n",
       "      <td>A-B_foll_ratio</td>\n",
       "      <td>0.001338</td>\n",
       "    </tr>\n",
       "    <tr>\n",
       "      <th>12</th>\n",
       "      <td>A-B_ment_ratio</td>\n",
       "      <td>0.001394</td>\n",
       "    </tr>\n",
       "    <tr>\n",
       "      <th>13</th>\n",
       "      <td>A-B_rt_ratio</td>\n",
       "      <td>0.001355</td>\n",
       "    </tr>\n",
       "  </tbody>\n",
       "</table>\n",
       "</div>"
      ],
      "text/plain": [
       "                  feature       VIF\n",
       "0      A-B_follower_count  0.002443\n",
       "1     A-B_following_count  0.000927\n",
       "2        A-B_listed_count  0.002096\n",
       "3   A-B_mentions_received  0.009857\n",
       "4   A-B_retweets_received  0.003202\n",
       "5       A-B_mentions_sent  0.001849\n",
       "6       A-B_retweets_sent  0.001215\n",
       "7               A-B_posts  0.001602\n",
       "8   A-B_network_feature_1  0.010381\n",
       "9   A-B_network_feature_2  0.001411\n",
       "10  A-B_network_feature_3  0.001422\n",
       "11         A-B_foll_ratio  0.001338\n",
       "12         A-B_ment_ratio  0.001394\n",
       "13           A-B_rt_ratio  0.001355"
      ]
     },
     "execution_count": 189,
     "metadata": {},
     "output_type": "execute_result"
    }
   ],
   "source": [
    "vif_data"
   ]
  },
  {
   "cell_type": "code",
   "execution_count": 190,
   "id": "d5a169e2",
   "metadata": {},
   "outputs": [],
   "source": [
    "selected_cols = vif_data[vif_data['VIF'] <= 5]['feature'].values.tolist()"
   ]
  },
  {
   "cell_type": "code",
   "execution_count": 191,
   "id": "d4edce1c",
   "metadata": {},
   "outputs": [
    {
     "data": {
      "text/plain": [
       "['A-B_follower_count',\n",
       " 'A-B_following_count',\n",
       " 'A-B_listed_count',\n",
       " 'A-B_mentions_received',\n",
       " 'A-B_retweets_received',\n",
       " 'A-B_mentions_sent',\n",
       " 'A-B_retweets_sent',\n",
       " 'A-B_posts',\n",
       " 'A-B_network_feature_1',\n",
       " 'A-B_network_feature_2',\n",
       " 'A-B_network_feature_3',\n",
       " 'A-B_foll_ratio',\n",
       " 'A-B_ment_ratio',\n",
       " 'A-B_rt_ratio']"
      ]
     },
     "execution_count": 191,
     "metadata": {},
     "output_type": "execute_result"
    }
   ],
   "source": [
    "selected_cols"
   ]
  },
  {
   "cell_type": "markdown",
   "id": "21b66f9b",
   "metadata": {},
   "source": [
    "## Feature Selection"
   ]
  },
  {
   "cell_type": "code",
   "execution_count": 240,
   "id": "60a36f9e",
   "metadata": {},
   "outputs": [],
   "source": [
    "X = X_t[selected_cols]"
   ]
  },
  {
   "cell_type": "code",
   "execution_count": 241,
   "id": "d6d74f6c",
   "metadata": {},
   "outputs": [
    {
     "name": "stdout",
     "output_type": "stream",
     "text": [
      "Optimization terminated successfully.\n",
      "         Current function value: 0.516642\n",
      "         Iterations 6\n",
      "                           Logit Regression Results                           \n",
      "==============================================================================\n",
      "Dep. Variable:                 Choice   No. Observations:                 5500\n",
      "Model:                          Logit   Df Residuals:                     5486\n",
      "Method:                           MLE   Df Model:                           13\n",
      "Date:                Thu, 03 Feb 2022   Pseudo R-squ.:                  0.2545\n",
      "Time:                        22:47:02   Log-Likelihood:                -2841.5\n",
      "converged:                       True   LL-Null:                       -3811.3\n",
      "Covariance Type:            nonrobust   LLR p-value:                     0.000\n",
      "=========================================================================================\n",
      "                            coef    std err          z      P>|z|      [0.025      0.975]\n",
      "-----------------------------------------------------------------------------------------\n",
      "A-B_follower_count        0.3635      0.108      3.374      0.001       0.152       0.575\n",
      "A-B_following_count       0.0011      0.074      0.015      0.988      -0.145       0.147\n",
      "A-B_listed_count          0.6530      0.098      6.668      0.000       0.461       0.845\n",
      "A-B_mentions_received    -0.3390      0.218     -1.555      0.120      -0.766       0.088\n",
      "A-B_retweets_received    -0.2849      0.124     -2.293      0.022      -0.528      -0.041\n",
      "A-B_mentions_sent         0.5079      0.101      5.007      0.000       0.309       0.707\n",
      "A-B_retweets_sent         0.4866      0.085      5.743      0.000       0.321       0.653\n",
      "A-B_posts                -0.0770      0.093     -0.824      0.410      -0.260       0.106\n",
      "A-B_network_feature_1     0.5492      0.223      2.461      0.014       0.112       0.986\n",
      "A-B_network_feature_2     0.4123      0.090      4.563      0.000       0.235       0.589\n",
      "A-B_network_feature_3    -0.0476      0.089     -0.534      0.593      -0.222       0.127\n",
      "A-B_foll_ratio            0.1637      0.084      1.941      0.052      -0.002       0.329\n",
      "A-B_ment_ratio           -0.9133      0.085    -10.703      0.000      -1.081      -0.746\n",
      "A-B_rt_ratio             -0.9900      0.083    -11.979      0.000      -1.152      -0.828\n",
      "=========================================================================================\n"
     ]
    }
   ],
   "source": [
    "# building the model and fitting the data\n",
    "log_reg = sm.Logit(y, X).fit()\n",
    "\n",
    "print(log_reg.summary())"
   ]
  },
  {
   "cell_type": "code",
   "execution_count": 248,
   "id": "276b3361",
   "metadata": {},
   "outputs": [],
   "source": [
    "del_columns = [\n",
    "    'A-B_following_count',\n",
    "    'A-B_mentions_received',\n",
    "    'A-B_posts',\n",
    "    'A-B_network_feature_3',\n",
    "    'A-B_foll_ratio'\n",
    "]\n",
    "req_cols = list(set(sub_cols) - set(del_columns))"
   ]
  },
  {
   "cell_type": "code",
   "execution_count": 249,
   "id": "2a83185e",
   "metadata": {},
   "outputs": [
    {
     "name": "stdout",
     "output_type": "stream",
     "text": [
      "Optimization terminated successfully.\n",
      "         Current function value: 0.517359\n",
      "         Iterations 6\n",
      "                           Logit Regression Results                           \n",
      "==============================================================================\n",
      "Dep. Variable:                 Choice   No. Observations:                 5500\n",
      "Model:                          Logit   Df Residuals:                     5491\n",
      "Method:                           MLE   Df Model:                            8\n",
      "Date:                Thu, 03 Feb 2022   Pseudo R-squ.:                  0.2534\n",
      "Time:                        22:49:36   Log-Likelihood:                -2845.5\n",
      "converged:                       True   LL-Null:                       -3811.3\n",
      "Covariance Type:            nonrobust   LLR p-value:                     0.000\n",
      "=========================================================================================\n",
      "                            coef    std err          z      P>|z|      [0.025      0.975]\n",
      "-----------------------------------------------------------------------------------------\n",
      "A-B_retweets_received    -0.2927      0.120     -2.448      0.014      -0.527      -0.058\n",
      "A-B_rt_ratio             -0.9779      0.082    -11.991      0.000      -1.138      -0.818\n",
      "A-B_network_feature_1     0.2586      0.123      2.102      0.036       0.017       0.500\n",
      "A-B_network_feature_2     0.3692      0.067      5.537      0.000       0.239       0.500\n",
      "A-B_retweets_sent         0.4948      0.084      5.869      0.000       0.330       0.660\n",
      "A-B_follower_count        0.4174      0.097      4.289      0.000       0.227       0.608\n",
      "A-B_ment_ratio           -0.9090      0.084    -10.809      0.000      -1.074      -0.744\n",
      "A-B_listed_count          0.6682      0.097      6.919      0.000       0.479       0.858\n",
      "A-B_mentions_sent         0.4502      0.087      5.203      0.000       0.281       0.620\n",
      "=========================================================================================\n"
     ]
    }
   ],
   "source": [
    "# building the model and fitting the data\n",
    "log_reg = sm.Logit(y, X[log_reg_columns]).fit()\n",
    "\n",
    "print(log_reg.summary())"
   ]
  },
  {
   "cell_type": "markdown",
   "id": "e08d100d",
   "metadata": {},
   "source": [
    "all features are significant"
   ]
  },
  {
   "cell_type": "markdown",
   "id": "705de08c",
   "metadata": {},
   "source": [
    "## Running different models on difference transformations"
   ]
  },
  {
   "cell_type": "code",
   "execution_count": 298,
   "id": "6941bd06",
   "metadata": {},
   "outputs": [],
   "source": [
    "X_train, X_val, y_train, y_val = train_test_split(X_t[log_reg_columns], y, test_size=0.3, random_state=42)"
   ]
  },
  {
   "cell_type": "code",
   "execution_count": 299,
   "id": "11048135",
   "metadata": {},
   "outputs": [
    {
     "data": {
      "text/plain": [
       "0.7763636363636364"
      ]
     },
     "execution_count": 299,
     "metadata": {},
     "output_type": "execute_result"
    }
   ],
   "source": [
    "log_reg = LogisticRegression(random_state=42)\n",
    "log_reg.fit(X_train, y_train)\n",
    "y_pred = log_reg.predict(X_val)\n",
    "accuracy_score(y_pred=y_pred, y_true=y_val)"
   ]
  },
  {
   "cell_type": "code",
   "execution_count": 300,
   "id": "bc87327e",
   "metadata": {},
   "outputs": [
    {
     "data": {
      "text/plain": [
       "0.7618181818181818"
      ]
     },
     "execution_count": 300,
     "metadata": {},
     "output_type": "execute_result"
    }
   ],
   "source": [
    "dt = DecisionTreeClassifier(random_state=42)\n",
    "dt.fit(X_train, y_train)\n",
    "y_pred = dt.predict(X_val)\n",
    "accuracy_score(y_pred=y_pred, y_true=y_val)"
   ]
  },
  {
   "cell_type": "code",
   "execution_count": 301,
   "id": "43d786d5",
   "metadata": {},
   "outputs": [
    {
     "data": {
      "text/plain": [
       "0.7636363636363637"
      ]
     },
     "execution_count": 301,
     "metadata": {},
     "output_type": "execute_result"
    }
   ],
   "source": [
    "rf = RandomForestClassifier(random_state=42)\n",
    "rf.fit(X_train, y_train)\n",
    "y_pred = rf.predict(X_val)\n",
    "accuracy_score(y_pred=y_pred, y_true=y_val)"
   ]
  },
  {
   "cell_type": "code",
   "execution_count": 302,
   "id": "85e16fb8",
   "metadata": {},
   "outputs": [
    {
     "data": {
      "text/plain": [
       "0.7466666666666667"
      ]
     },
     "execution_count": 302,
     "metadata": {},
     "output_type": "execute_result"
    }
   ],
   "source": [
    "knn = KNeighborsClassifier()\n",
    "knn.fit(X_train, y_train)\n",
    "y_pred = knn.predict(X_val)\n",
    "accuracy_score(y_pred=y_pred, y_true=y_val)"
   ]
  },
  {
   "cell_type": "code",
   "execution_count": 303,
   "id": "09c649c9",
   "metadata": {},
   "outputs": [
    {
     "name": "stdout",
     "output_type": "stream",
     "text": [
      "[23:19:48] WARNING: C:/Users/Administrator/workspace/xgboost-win64_release_1.5.0/src/learner.cc:1115: Starting in XGBoost 1.3.0, the default evaluation metric used with the objective 'binary:logistic' was changed from 'error' to 'logloss'. Explicitly set eval_metric if you'd like to restore the old behavior.\n"
     ]
    },
    {
     "data": {
      "text/plain": [
       "0.7642424242424243"
      ]
     },
     "execution_count": 303,
     "metadata": {},
     "output_type": "execute_result"
    }
   ],
   "source": [
    "model = XGBClassifier()\n",
    "model.fit(X_train, y_train)\n",
    "y_pred = model.predict(X_val)\n",
    "accuracy_score(y_pred=y_pred, y_true=y_val)"
   ]
  },
  {
   "cell_type": "code",
   "execution_count": 304,
   "id": "b45a55e6",
   "metadata": {},
   "outputs": [
    {
     "data": {
      "text/plain": [
       "0.7660606060606061"
      ]
     },
     "execution_count": 304,
     "metadata": {},
     "output_type": "execute_result"
    }
   ],
   "source": [
    "svc = SVC(random_state=42)\n",
    "svc.fit(X_train, y_train)\n",
    "y_pred = svc.predict(X_val)\n",
    "accuracy_score(y_pred=y_pred, y_true=y_val)"
   ]
  },
  {
   "cell_type": "code",
   "execution_count": 305,
   "id": "68c6aace",
   "metadata": {},
   "outputs": [
    {
     "data": {
      "text/plain": [
       "0.7666666666666667"
      ]
     },
     "execution_count": 305,
     "metadata": {},
     "output_type": "execute_result"
    }
   ],
   "source": [
    "nb = GaussianNB()\n",
    "nb.fit(X_train, y_train)\n",
    "y_pred = nb.predict(X_val)\n",
    "accuracy_score(y_pred=y_pred, y_true=y_val)"
   ]
  },
  {
   "cell_type": "markdown",
   "id": "f9401a26",
   "metadata": {},
   "source": [
    "All models performed equally well"
   ]
  },
  {
   "cell_type": "markdown",
   "id": "5feb0e2d",
   "metadata": {},
   "source": [
    "#### CV and hyper parameter Tuning for Logistic regression"
   ]
  },
  {
   "cell_type": "code",
   "execution_count": 282,
   "id": "123ad7b8",
   "metadata": {},
   "outputs": [],
   "source": [
    "# Number of trees in random forest\n",
    "penalty = ['l1', 'l2', 'elasticnet', 'none']\n",
    "solvers = ['newton-cg', 'lbfgs', 'liblinear']\n",
    "c_values = [100, 10, 1.0, 0.1, 0.01]\n",
    "gamma = [0.001, 0.0001]\n",
    "kernel = ['rbf']\n",
    "param_grid = {'solver': solvers,\n",
    "               'penalty': penalty,\n",
    "               'C': c_values} \n",
    "\n",
    "model = LogisticRegression(random_state=42)\n",
    "grid_search = GridSearchCV(estimator=model, \n",
    "                           param_grid=param_grid, \n",
    "                           cv = 10,\n",
    "                           n_jobs=-1,\n",
    "                          verbose=3)\n"
   ]
  },
  {
   "cell_type": "code",
   "execution_count": 283,
   "id": "b9108e15",
   "metadata": {},
   "outputs": [
    {
     "name": "stdout",
     "output_type": "stream",
     "text": [
      "Fitting 10 folds for each of 60 candidates, totalling 600 fits\n"
     ]
    },
    {
     "data": {
      "text/plain": [
       "GridSearchCV(cv=10, estimator=LogisticRegression(random_state=42), n_jobs=-1,\n",
       "             param_grid={'C': [100, 10, 1.0, 0.1, 0.01],\n",
       "                         'penalty': ['l1', 'l2', 'elasticnet', 'none'],\n",
       "                         'solver': ['newton-cg', 'lbfgs', 'liblinear']},\n",
       "             verbose=3)"
      ]
     },
     "execution_count": 283,
     "metadata": {},
     "output_type": "execute_result"
    }
   ],
   "source": [
    "grid_search.fit(X_train, y_train)"
   ]
  },
  {
   "cell_type": "code",
   "execution_count": 284,
   "id": "1b76d560",
   "metadata": {},
   "outputs": [
    {
     "data": {
      "text/plain": [
       "0.7763636363636364"
      ]
     },
     "execution_count": 284,
     "metadata": {},
     "output_type": "execute_result"
    }
   ],
   "source": [
    "log_reg_best = grid_search.best_estimator_\n",
    "log_reg_best.fit(X_train, y_train)\n",
    "y_pred = log_reg_best.predict(X_val)\n",
    "accuracy_score(y_pred=y_pred, y_true=y_val)"
   ]
  },
  {
   "cell_type": "markdown",
   "id": "958d4f31",
   "metadata": {},
   "source": [
    "#### CV and Hyperparameter tuning for RF "
   ]
  },
  {
   "cell_type": "code",
   "execution_count": 285,
   "id": "0bee619c",
   "metadata": {},
   "outputs": [
    {
     "data": {
      "text/plain": [
       "{'n_estimators': [100, 311, 522, 733, 944, 1155, 1366, 1577, 1788, 2000],\n",
       " 'max_features': ['auto', 'sqrt'],\n",
       " 'max_depth': [10, 20, 30, 40, 50, 60, 70, 80, 90, 100, 110, None],\n",
       " 'min_samples_split': [2, 5, 10],\n",
       " 'min_samples_leaf': [1, 2, 4],\n",
       " 'bootstrap': [True, False]}"
      ]
     },
     "execution_count": 285,
     "metadata": {},
     "output_type": "execute_result"
    }
   ],
   "source": [
    "# Number of trees in random forest\n",
    "n_estimators = [int(x) for x in np.linspace(start = 100, stop = 2000, num = 10)]\n",
    "\n",
    "# Number of features to consider at every split\n",
    "max_features = ['auto', 'sqrt']\n",
    "\n",
    "# Maximum number of levels in tree\n",
    "max_depth = [int(x) for x in np.linspace(10, 110, num = 11)]\n",
    "max_depth.append(None)\n",
    "\n",
    "# Minimum number of samples required to split a node\n",
    "min_samples_split = [2, 5, 10]\n",
    "\n",
    "# Minimum number of samples required at each leaf node\n",
    "min_samples_leaf = [1, 2, 4]\n",
    "\n",
    "# Method of selecting samples for training each tree\n",
    "bootstrap = [True, False]# Create the random grid\n",
    "\n",
    "random_grid = {'n_estimators': n_estimators,\n",
    "               'max_features': max_features,\n",
    "               'max_depth': max_depth,\n",
    "               'min_samples_split': min_samples_split,\n",
    "               'min_samples_leaf': min_samples_leaf,\n",
    "               'bootstrap': bootstrap}\n",
    "\n",
    "random_grid"
   ]
  },
  {
   "cell_type": "code",
   "execution_count": 287,
   "id": "e478232c",
   "metadata": {},
   "outputs": [
    {
     "name": "stdout",
     "output_type": "stream",
     "text": [
      "Fitting 5 folds for each of 100 candidates, totalling 500 fits\n"
     ]
    },
    {
     "data": {
      "text/plain": [
       "RandomizedSearchCV(cv=5, estimator=RandomForestClassifier(random_state=42),\n",
       "                   n_iter=100, n_jobs=-1,\n",
       "                   param_distributions={'bootstrap': [True, False],\n",
       "                                        'max_depth': [10, 20, 30, 40, 50, 60,\n",
       "                                                      70, 80, 90, 100, 110,\n",
       "                                                      None],\n",
       "                                        'max_features': ['auto', 'sqrt'],\n",
       "                                        'min_samples_leaf': [1, 2, 4],\n",
       "                                        'min_samples_split': [2, 5, 10],\n",
       "                                        'n_estimators': [100, 311, 522, 733,\n",
       "                                                         944, 1155, 1366, 1577,\n",
       "                                                         1788, 2000]},\n",
       "                   random_state=42, scoring='accuracy', verbose=3)"
      ]
     },
     "execution_count": 287,
     "metadata": {},
     "output_type": "execute_result"
    }
   ],
   "source": [
    "# Use the random grid to search for best hyperparameters\n",
    "# First create the base model to tune\n",
    "rf = RandomForestClassifier(random_state=42)\n",
    "\n",
    "# Random search of parameters, using 3 fold cross validation, \n",
    "# search across 100 different combinations, and use all available cores\n",
    "rf_random = RandomizedSearchCV(\n",
    "    estimator = rf, \n",
    "    param_distributions = random_grid, \n",
    "    n_iter = 100, \n",
    "    cv = 5, \n",
    "    verbose=3, \n",
    "    random_state=42,\n",
    "    scoring = 'accuracy',\n",
    "    n_jobs = -1)\n",
    "\n",
    "# Fit the random search model\n",
    "rf_random.fit(X_train, y_train)"
   ]
  },
  {
   "cell_type": "code",
   "execution_count": 288,
   "id": "8924fafc",
   "metadata": {},
   "outputs": [
    {
     "data": {
      "text/plain": [
       "{'n_estimators': 100,\n",
       " 'min_samples_split': 5,\n",
       " 'min_samples_leaf': 4,\n",
       " 'max_features': 'auto',\n",
       " 'max_depth': 100,\n",
       " 'bootstrap': False}"
      ]
     },
     "execution_count": 288,
     "metadata": {},
     "output_type": "execute_result"
    }
   ],
   "source": [
    "rf_random.best_params_"
   ]
  },
  {
   "cell_type": "code",
   "execution_count": 289,
   "id": "c35d1fc5",
   "metadata": {},
   "outputs": [],
   "source": [
    "rf_best = rf_random.best_estimator_"
   ]
  },
  {
   "cell_type": "code",
   "execution_count": 290,
   "id": "2e66a1b5",
   "metadata": {},
   "outputs": [
    {
     "data": {
      "text/plain": [
       "0.7624242424242424"
      ]
     },
     "execution_count": 290,
     "metadata": {},
     "output_type": "execute_result"
    }
   ],
   "source": [
    "rf_best.fit(X_train, y_train)\n",
    "y_pred = rf_best.predict(X_val)\n",
    "accuracy_score(y_pred=y_pred, y_true=y_val)"
   ]
  },
  {
   "cell_type": "markdown",
   "id": "28fd7575",
   "metadata": {},
   "source": [
    "**Logistic regression performed the best with ~78% accuracy**"
   ]
  },
  {
   "cell_type": "code",
   "execution_count": 309,
   "id": "3615bda5",
   "metadata": {},
   "outputs": [],
   "source": [
    "log_reg_best.fit(X_train, y_train)\n",
    "y_pred = log_reg_best.predict(X_val)\n",
    "tn, fp, fn, tp = confusion_matrix(y_pred=y_pred, y_true=y_val).ravel()"
   ]
  },
  {
   "cell_type": "markdown",
   "id": "3ad424f9",
   "metadata": {},
   "source": [
    "## Financial value of the model"
   ]
  },
  {
   "cell_type": "markdown",
   "id": "a4c0b103",
   "metadata": {},
   "source": [
    "If an influencer tweets once, there is a 0.01% chance that his/her followers will buy one unit of a product. Assume the retailer has a profit margin of \\\\$10 per unit, and that one customer can buy only one unit. If an influencer tweets twice, the overall buying probability will be 0.015\\% Without analytics, the retailer offers \\\\$5 to each person (A and B) to tweet once. With analytics, the retailer offers \\\\$10 to those identified as influencer by the model to send two tweets each."
   ]
  },
  {
   "cell_type": "code",
   "execution_count": 379,
   "id": "c8365591",
   "metadata": {},
   "outputs": [],
   "source": [
    "## choice for retailers based on follower count of a user\n",
    "y_val_ix = y_val.index\n",
    "val_data = train_data.iloc[y_val_ix]\n",
    "profit_from_A = sum(0.0001 * val_data['A_follower_count'] * val_data['Choice']*10) - 5*sum(val_data['Choice'])\n",
    "profit_from_B = sum(0.0001 * val_data['B_follower_count'] * (val_data['Choice']==0)*10) - 5*sum(val_data['Choice']==0)"
   ]
  },
  {
   "cell_type": "code",
   "execution_count": 382,
   "id": "83f0281b",
   "metadata": {},
   "outputs": [
    {
     "data": {
      "text/plain": [
       "887292.7939999972"
      ]
     },
     "execution_count": 382,
     "metadata": {},
     "output_type": "execute_result"
    }
   ],
   "source": [
    "profit_from_B"
   ]
  },
  {
   "cell_type": "code",
   "execution_count": 384,
   "id": "12e340ee",
   "metadata": {},
   "outputs": [
    {
     "data": {
      "text/plain": [
       "1697597.578999997"
      ]
     },
     "execution_count": 384,
     "metadata": {},
     "output_type": "execute_result"
    }
   ],
   "source": [
    "total_profit_wo_targeting = profit_from_A + profit_from_B\n",
    "total_profit_wo_targeting"
   ]
  },
  {
   "cell_type": "code",
   "execution_count": 419,
   "id": "03b3af4c",
   "metadata": {},
   "outputs": [
    {
     "data": {
      "text/plain": [
       "2400434.1090000006"
      ]
     },
     "execution_count": 419,
     "metadata": {},
     "output_type": "execute_result"
    }
   ],
   "source": [
    "## Profit via targeting\n",
    "profit_targeting_A = sum(0.00015 * val_data['A_follower_count']*y_val*y_pred*10) - 10*sum(y_pred)\n",
    "profit_targeting_B = sum(0.00015 * val_data['B_follower_count']*(y_val == 0)*(y_pred == 0)*10) - 10*sum(y_pred==0)\n",
    "\n",
    "total_profit_with_targeting = profit_targeting_A + profit_targeting_B\n",
    "total_profit_with_targeting"
   ]
  },
  {
   "cell_type": "code",
   "execution_count": 420,
   "id": "215f0fbd",
   "metadata": {},
   "outputs": [],
   "source": [
    "profit_increase = (total_profit_with_targeting - total_profit_wo_targeting) / total_profit_wo_targeting * 100"
   ]
  },
  {
   "cell_type": "code",
   "execution_count": 421,
   "id": "13468865",
   "metadata": {},
   "outputs": [
    {
     "data": {
      "text/plain": [
       "702836.5300000038"
      ]
     },
     "execution_count": 421,
     "metadata": {},
     "output_type": "execute_result"
    }
   ],
   "source": [
    "lift1 = total_profit_with_targeting - total_profit_wo_targeting\n",
    "lift1"
   ]
  },
  {
   "cell_type": "markdown",
   "id": "117d0394",
   "metadata": {},
   "source": [
    "### Financial Lift of our model"
   ]
  },
  {
   "cell_type": "code",
   "execution_count": 434,
   "id": "a4c6c974",
   "metadata": {},
   "outputs": [
    {
     "name": "stdout",
     "output_type": "stream",
     "text": [
      "The financial lift from using our analytical model after identifying influencers : 702836.53\n"
     ]
    }
   ],
   "source": [
    "#financial lift \n",
    "print(f'The financial lift from using our analytical model after identifying influencers : {round(lift1,2)}')"
   ]
  },
  {
   "cell_type": "code",
   "execution_count": 435,
   "id": "f2b70565",
   "metadata": {},
   "outputs": [
    {
     "name": "stdout",
     "output_type": "stream",
     "text": [
      "Percentage increase in profit after identifying influencers : 41.4%\n"
     ]
    }
   ],
   "source": [
    "print(f'Percentage increase in profit after identifying influencers : {round(profit_increase,2)}%')"
   ]
  },
  {
   "cell_type": "markdown",
   "id": "cbb312c4",
   "metadata": {},
   "source": [
    "### Financial Lift of Perfect Model"
   ]
  },
  {
   "cell_type": "code",
   "execution_count": 436,
   "id": "b14f640e",
   "metadata": {},
   "outputs": [
    {
     "data": {
      "text/plain": [
       "2542171.3685000017"
      ]
     },
     "execution_count": 436,
     "metadata": {},
     "output_type": "execute_result"
    }
   ],
   "source": [
    "## Profit via targeting\n",
    "profit_perfect_A = sum(0.00015 * val_data['A_follower_count']*val_data['Choice']*10) - 10*sum(val_data['Choice'])\n",
    "profit_perfect_B = sum(0.00015 * val_data['B_follower_count']*(val_data['Choice'] == 0)*10) - 10*sum(val_data['Choice'])\n",
    "\n",
    "total_profit_perfect = profit_perfect_A + profit_perfect_B\n",
    "total_profit_perfect"
   ]
  },
  {
   "cell_type": "code",
   "execution_count": 437,
   "id": "bbc2fb6e",
   "metadata": {},
   "outputs": [],
   "source": [
    "lift2 = total_profit_perfect - total_profit_wo_targeting\n",
    "\n",
    "profit_increase2 = (total_profit_perfect - total_profit_wo_targeting) / total_profit_wo_targeting * 100"
   ]
  },
  {
   "cell_type": "code",
   "execution_count": 438,
   "id": "a13f106f",
   "metadata": {},
   "outputs": [
    {
     "name": "stdout",
     "output_type": "stream",
     "text": [
      "The financial lift for a perfect analytical model : 844573.79\n"
     ]
    }
   ],
   "source": [
    "#financial lift \n",
    "print(f'The financial lift for a perfect analytical model : {round(lift2,2)}')"
   ]
  },
  {
   "cell_type": "code",
   "execution_count": 439,
   "id": "037e108c",
   "metadata": {},
   "outputs": [
    {
     "name": "stdout",
     "output_type": "stream",
     "text": [
      "Percentage increase in profit using perfect analytical model : 49.75%\n"
     ]
    }
   ],
   "source": [
    "print(f'Percentage increase in profit using perfect analytical model : {round(profit_increase2,2)}%')"
   ]
  }
 ],
 "metadata": {
  "kernelspec": {
   "display_name": "Python 3 (ipykernel)",
   "language": "python",
   "name": "python3"
  },
  "language_info": {
   "codemirror_mode": {
    "name": "ipython",
    "version": 3
   },
   "file_extension": ".py",
   "mimetype": "text/x-python",
   "name": "python",
   "nbconvert_exporter": "python",
   "pygments_lexer": "ipython3",
   "version": "3.9.6"
  }
 },
 "nbformat": 4,
 "nbformat_minor": 5
}
